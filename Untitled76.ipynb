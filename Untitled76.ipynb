{
 "cells": [
  {
   "cell_type": "code",
   "execution_count": 2,
   "id": "0737c4d3",
   "metadata": {},
   "outputs": [
    {
     "name": "stdout",
     "output_type": "stream",
     "text": [
      "3\n"
     ]
    }
   ],
   "source": [
    "def findDepthRec(tree, n, index) :\n",
    "    if (index[0] >= n or tree[index[0]] == 'l'):\n",
    "        return 0\n",
    "    index[0] += 1\n",
    "    left = findDepthRec(tree, n, index)\n",
    " \n",
    "    index[0] += 1\n",
    "    right = findDepthRec(tree, n, index)\n",
    "    return (max(left, right) + 1)\n",
    " \n",
    "def findDepth(tree, n) :\n",
    "    index = [0]\n",
    "    return findDepthRec(tree, n, index)\n",
    " \n",
    "tree= \"nlnnlll\"\n",
    "n = len(tree)\n",
    "print(findDepth(tree, n))"
   ]
  },
  {
   "cell_type": "code",
   "execution_count": 6,
   "id": "1f781444",
   "metadata": {},
   "outputs": [
    {
     "name": "stdout",
     "output_type": "stream",
     "text": [
      "4 5 3 6 "
     ]
    }
   ],
   "source": [
    "class Node:\n",
    "    def __init__(self, data):\n",
    "        self.data = data\n",
    "        self.left = None\n",
    "        self.right = None\n",
    "        \n",
    "def leftViewUtil(root, level, max_level):\n",
    "    if root is None:\n",
    "        return\n",
    "    if (max_level[0] < level):\n",
    "        print (root.data, end = \" \")\n",
    "        max_level[0] = level\n",
    "    leftViewUtil(root.left, level + 1, max_level)\n",
    "    leftViewUtil(root.right, level + 1, max_level)\n",
    "\n",
    "def leftView(root):\n",
    "    max_level = [0]\n",
    "    leftViewUtil(root, 1, max_level)\n",
    "\n",
    "root = Node(4)\n",
    "root.left = Node(5)\n",
    "root.right = Node(2)\n",
    "root.right.right = Node(1)\n",
    "root.right.left = Node(3)\n",
    "root.right.left.left = Node(6)\n",
    "root.right.left.right = Node(7)\n",
    "leftView(root)"
   ]
  },
  {
   "cell_type": "code",
   "execution_count": 7,
   "id": "0392af85",
   "metadata": {},
   "outputs": [
    {
     "name": "stdout",
     "output_type": "stream",
     "text": [
      "1 3 7 8 "
     ]
    }
   ],
   "source": [
    "class Node:\n",
    "    def __init__(self, data):\n",
    "        self.data = data\n",
    "        self.left = None\n",
    "        self.right = None\n",
    "        \n",
    "def rightViewUtil(root, level, max_level):\n",
    "    if root is None:\n",
    "        return\n",
    "    if (max_level[0] < level):\n",
    "        print (root.data, end = \" \")\n",
    "        max_level[0] = level\n",
    "    rightViewUtil(root.right, level + 1, max_level)\n",
    "    rightViewUtil(root.left, level + 1, max_level)\n",
    "\n",
    "def rightView(root):\n",
    "    max_level = [0]\n",
    "    rightViewUtil(root, 1, max_level)\n",
    "\n",
    "root = Node(1)\n",
    "root.left = Node(2)\n",
    "root.right = Node(3)\n",
    "root.left.left = Node(4)\n",
    "root.left.right = Node(5)\n",
    "root.right.left = Node(6)\n",
    "root.right.right = Node(7)\n",
    "root.right.left.right = Node(8)\n",
    "rightView(root)"
   ]
  },
  {
   "cell_type": "code",
   "execution_count": 9,
   "id": "0edbe4ff",
   "metadata": {},
   "outputs": [
    {
     "name": "stdout",
     "output_type": "stream",
     "text": [
      "5 10 4 14 25 "
     ]
    }
   ],
   "source": [
    "class Node:\n",
    "     def __init__(self, key = None,\n",
    "                      left = None,\n",
    "                     right = None):\n",
    "                          \n",
    "        self.data = key\n",
    "        self.left = left\n",
    "        self.right = right\n",
    "         \n",
    "def printBottomView(root):\n",
    "    d = dict()\n",
    "    printBottomViewUtil(root, d, 0, 0)\n",
    "    for i in sorted(d.keys()):\n",
    "        print(d[i][0], end = \" \")\n",
    "\n",
    "def printBottomViewUtil(root, d, hd, level):\n",
    "    if root is None:\n",
    "        return\n",
    "    if hd in d:\n",
    "        if level >= d[hd][1]:\n",
    "            d[hd] = [root.data, level]\n",
    "    else:\n",
    "        d[hd] = [root.data, level]\n",
    "    printBottomViewUtil(root.left, d, hd - 1, level + 1)\n",
    "    printBottomViewUtil(root.right, d, hd + 1, level + 1)\n",
    " \n",
    "     \n",
    "root = Node(20)\n",
    "root.left = Node(8)\n",
    "root.right = Node(22)\n",
    "root.left.left = Node(5)\n",
    "root.left.right = Node(3)\n",
    "root.right.left = Node(4)\n",
    "root.right.right = Node(25)\n",
    "root.left.right.left = Node(10)\n",
    "root.left.right.right = Node(14)\n",
    "printBottomView(root)"
   ]
  }
 ],
 "metadata": {
  "kernelspec": {
   "display_name": "Python 3 (ipykernel)",
   "language": "python",
   "name": "python3"
  },
  "language_info": {
   "codemirror_mode": {
    "name": "ipython",
    "version": 3
   },
   "file_extension": ".py",
   "mimetype": "text/x-python",
   "name": "python",
   "nbconvert_exporter": "python",
   "pygments_lexer": "ipython3",
   "version": "3.9.13"
  }
 },
 "nbformat": 4,
 "nbformat_minor": 5
}
